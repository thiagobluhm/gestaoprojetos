{
 "cells": [
  {
   "cell_type": "markdown",
   "id": "ecb6a905",
   "metadata": {},
   "source": [
    "### libs"
   ]
  },
  {
   "cell_type": "code",
   "execution_count": null,
   "id": "55452411",
   "metadata": {
    "ExecuteTime": {
     "end_time": "2024-07-29T20:19:11.540637Z",
     "start_time": "2024-07-29T20:19:07.023637Z"
    },
    "code_folding": [
     18
    ]
   },
   "outputs": [],
   "source": [
    "import dspy\n",
    "import openai\n",
    "from openai import OpenAI\n",
    "import pandas as pd\n",
    "import os\n",
    "import json\n",
    "import hashlib\n",
    "from tqdm import tqdm\n",
    "import chromadb\n",
    "import weaviate\n",
    "from dspy.retrieve.weaviate_rm import WeaviateRM\n",
    "\n",
    "import tiktoken\n",
    "encoding = tiktoken.get_encoding(\"cl100k_base\")\n",
    "encoding = tiktoken.encoding_for_model(\"gpt-3.5-turbo\")\n",
    "\n",
    "import time\n",
    "\n",
    "# SECRET KEY OPENAI\n",
    "secretk = os.getenv(\"OPENAI_API_KEY\")\n",
    "#client = OpenAI(api_key=secretk)\n",
    "openai.api_key = secretk\n",
    "client = OpenAI(api_key=secretk)\n",
    "\n",
    "import pandas as pd\n",
    "import os\n",
    "\n",
    "os.chdir(os.path.abspath(os.curdir))"
   ]
  },
  {
   "cell_type": "code",
   "execution_count": 2,
   "id": "e5fa8609",
   "metadata": {
    "ExecuteTime": {
     "end_time": "2024-07-29T20:19:11.547040Z",
     "start_time": "2024-07-29T20:19:11.543648Z"
    }
   },
   "outputs": [],
   "source": [
    "#os.listdir()"
   ]
  },
  {
   "cell_type": "code",
   "execution_count": 3,
   "id": "957bd7c4",
   "metadata": {
    "ExecuteTime": {
     "end_time": "2024-07-29T20:19:14.406396Z",
     "start_time": "2024-07-29T20:19:14.401544Z"
    }
   },
   "outputs": [],
   "source": [
    "import re\n",
    "\n",
    "# Função para limpar texto\n",
    "def clean_text(text):\n",
    "    # Decodificar caracteres Unicode\n",
    "    text = text.encode().decode('utf-8')\n",
    "    # Remover caracteres indesejados específicos (exemplo: \\n, \\r, etc.)\n",
    "    text = re.sub(r'[\\n\\r]', ' ', text)\n",
    "    # Remover espaços extras\n",
    "    text = re.sub(r'\\s+', ' ', text).strip()\n",
    "    \n",
    "    return text"
   ]
  },
  {
   "cell_type": "code",
   "execution_count": 4,
   "id": "1ae7e89f",
   "metadata": {
    "ExecuteTime": {
     "end_time": "2024-07-29T20:19:19.511239Z",
     "start_time": "2024-07-29T20:19:19.147971Z"
    }
   },
   "outputs": [],
   "source": [
    "#df = pd.read_excel('OportunidadesMelhoriaJuntada.xlsx', header=3)\n",
    "df = pd.read_excel('mapa_indicadores_RAG_21062024.xlsx')"
   ]
  },
  {
   "cell_type": "code",
   "execution_count": 6,
   "id": "95dbacb6",
   "metadata": {
    "ExecuteTime": {
     "end_time": "2024-07-29T22:45:16.357908Z",
     "start_time": "2024-07-29T22:45:16.295861Z"
    }
   },
   "outputs": [
    {
     "data": {
      "text/html": [
       "<div>\n",
       "<style scoped>\n",
       "    .dataframe tbody tr th:only-of-type {\n",
       "        vertical-align: middle;\n",
       "    }\n",
       "\n",
       "    .dataframe tbody tr th {\n",
       "        vertical-align: top;\n",
       "    }\n",
       "\n",
       "    .dataframe thead th {\n",
       "        text-align: right;\n",
       "    }\n",
       "</style>\n",
       "<table border=\"1\" class=\"dataframe\">\n",
       "  <thead>\n",
       "    <tr style=\"text-align: right;\">\n",
       "      <th></th>\n",
       "      <th>MERCADO</th>\n",
       "      <th>VISÃO</th>\n",
       "      <th>SWOT</th>\n",
       "      <th>OBJETIVO FINANCEIRO</th>\n",
       "      <th>RESULTADOS CHAVE FINANCEIRO</th>\n",
       "      <th>OBJETIVO CLIENTES E MERCADO</th>\n",
       "      <th>RESULTADOS CHAVE CLIENTES E MERCADO</th>\n",
       "      <th>OBJETIVO PROCESSOS</th>\n",
       "      <th>RESULTADOS CHAVE PROCESSOS</th>\n",
       "      <th>OBJETIVO PESSOAS</th>\n",
       "      <th>RESULTADOS CHAVE PESSOAS</th>\n",
       "      <th>OKRs</th>\n",
       "    </tr>\n",
       "  </thead>\n",
       "  <tbody>\n",
       "    <tr>\n",
       "      <th>0</th>\n",
       "      <td>Banco</td>\n",
       "      <td>Transformar vidas, facilitando o crédito.</td>\n",
       "      <td>Forças: cultura organizacional forte, proximid...</td>\n",
       "      <td>O1: Crescer receita de forma exponencial​.</td>\n",
       "      <td>O1KR1: Aumentar a receita de R$X para R$Y. O1K...</td>\n",
       "      <td>O2: Ampliar a oferta de crédito e serviços, tr...</td>\n",
       "      <td>O2KR1: Aumentar a base de pessoa física do set...</td>\n",
       "      <td>O3: Otimizar o fluxo de trabalho, proporcionan...</td>\n",
       "      <td>O3KR1:​ Aumentar o percentual de entregas no p...</td>\n",
       "      <td>O4: Fortalecer a cultura organizacional basead...</td>\n",
       "      <td>O4KR1: Obter o selo GPTW (nota&gt;70) até 07/24. ...</td>\n",
       "      <td>O1: Crescer receita de forma exponencial​. O1K...</td>\n",
       "    </tr>\n",
       "    <tr>\n",
       "      <th>1</th>\n",
       "      <td>Imobiliária</td>\n",
       "      <td>Ser reconhecida entre as 5 melhores construtor...</td>\n",
       "      <td>Forças: CREDIBILIDADE, CAPACIDADE TÉCNICA E VE...</td>\n",
       "      <td>O1: Alcançar saúde financeira, otimizando cust...</td>\n",
       "      <td>O1KR1: Garantir fluxo de caixa positivo (plane...</td>\n",
       "      <td>O2: Transformar cada contato com o cliente em ...</td>\n",
       "      <td>O2KR1: Implantar novo modelo de gestão 5 Estre...</td>\n",
       "      <td>O3: Assegurar custo, prazo e qualidade das obras.</td>\n",
       "      <td>O3KR1: Reduzir a quantidade de revisão de proj...</td>\n",
       "      <td>O4: Fortalecer o orgulho em ser parte da empresa.</td>\n",
       "      <td>O4KR1: Atingir a nota ≥80% na pesquisa de sati...</td>\n",
       "      <td>O1: Alcançar saúde financeira, otimizando cust...</td>\n",
       "    </tr>\n",
       "    <tr>\n",
       "      <th>2</th>\n",
       "      <td>Indústria de alimentos</td>\n",
       "      <td>Ser a melhor indústria de beneficiamento de ca...</td>\n",
       "      <td>Forças: qualidade do produto, credibilidade da...</td>\n",
       "      <td>O1: Tornar a empresa independente financeirame...</td>\n",
       "      <td>O1KR1: Aumentar faturamento anual de R$X para ...</td>\n",
       "      <td>O2: Ampliar a presença e o reconhecimento da m...</td>\n",
       "      <td>O2KR1: Implementar dois novos canais de venda ...</td>\n",
       "      <td>O3: Ser a fábrica mais eficiente do segmento d...</td>\n",
       "      <td>O3KR1: Alcançar 10 pontos no WCM em 2023. O3KR...</td>\n",
       "      <td>O4: Transformar a vida dos nossos colaboradore...</td>\n",
       "      <td>O4KR1: Obter a certificação de GPTW até o fina...</td>\n",
       "      <td>O1: Tornar a empresa independente financeirame...</td>\n",
       "    </tr>\n",
       "    <tr>\n",
       "      <th>3</th>\n",
       "      <td>Tecnologia</td>\n",
       "      <td>Ser referência nacional em soluções de gestão ...</td>\n",
       "      <td>Forças, regras de negócio bem consolidadas no ...</td>\n",
       "      <td>O1: Garantir a rentabilidade do negócio.</td>\n",
       "      <td>O1KR1: Crescer 25% do faturamento. O1KR2: Gara...</td>\n",
       "      <td>O2 : Tornar nossos clientes apaixonados pela m...</td>\n",
       "      <td>O2KR1: Atender tickets dentro do SLA: de 65% p...</td>\n",
       "      <td>O3: Ser excelente em tudo que faz.</td>\n",
       "      <td>O3KR1: Padronizar 4 processos e suas respectiv...</td>\n",
       "      <td>O4: Ser reconhecida como a melhor empresa para...</td>\n",
       "      <td>O4KR1: Implementar um programa de desenvolvime...</td>\n",
       "      <td>O1: Garantir a rentabilidade do negócio. O1KR1...</td>\n",
       "    </tr>\n",
       "    <tr>\n",
       "      <th>4</th>\n",
       "      <td>Agricultura</td>\n",
       "      <td>Ser referência global na produção de alimentos...</td>\n",
       "      <td>Forças: credibilidade da marca, equipe técnica...</td>\n",
       "      <td>O1: Ser uma empresa lucrativa, rentável e sust...</td>\n",
       "      <td>O1KR1: Aumentar o faturamento em X%. O1KR2: Re...</td>\n",
       "      <td>O2: Estar presente em todas as cidades do Brasil.</td>\n",
       "      <td>O2KR1: Reduzir a taxa de transformação da marc...</td>\n",
       "      <td>O3: Ser a melhor empresa de melão e melancia d...</td>\n",
       "      <td>O3KR1: Aumentar a  produtividade média do melã...</td>\n",
       "      <td>O4: Ser uma empresa na qual as pessoas se orgu...</td>\n",
       "      <td>O4KR1: Reduzir rotatividade de X para Y. O4KR2...</td>\n",
       "      <td>O1: Ser uma empresa lucrativa, rentável e sust...</td>\n",
       "    </tr>\n",
       "    <tr>\n",
       "      <th>5</th>\n",
       "      <td>Textil</td>\n",
       "      <td>Gerar conexões e prosperidade para os negócios...</td>\n",
       "      <td>Força: executar importação, prezar pela qualid...</td>\n",
       "      <td>O1: Crescer de forma rentável.</td>\n",
       "      <td>O1KR1: Aumentar as receitas de R$X para R$Y em...</td>\n",
       "      <td>O2: Transformar cada ponto de contato em uma e...</td>\n",
       "      <td>O2KR1: Atingir 20% da taxa de conversão. O2KR2...</td>\n",
       "      <td>NaN</td>\n",
       "      <td>NaN</td>\n",
       "      <td>O4:  Fortalecer a cultura de engajamento do ne...</td>\n",
       "      <td>O4KR1: Aumentar a satisfação dos colaboradores...</td>\n",
       "      <td>O1: Crescer de forma rentável. O1KR1: Aumentar...</td>\n",
       "    </tr>\n",
       "  </tbody>\n",
       "</table>\n",
       "</div>"
      ],
      "text/plain": [
       "                  MERCADO                                              VISÃO  \\\n",
       "0                   Banco          Transformar vidas, facilitando o crédito.   \n",
       "1             Imobiliária  Ser reconhecida entre as 5 melhores construtor...   \n",
       "2  Indústria de alimentos  Ser a melhor indústria de beneficiamento de ca...   \n",
       "3              Tecnologia  Ser referência nacional em soluções de gestão ...   \n",
       "4             Agricultura  Ser referência global na produção de alimentos...   \n",
       "5                  Textil  Gerar conexões e prosperidade para os negócios...   \n",
       "\n",
       "                                                SWOT  \\\n",
       "0  Forças: cultura organizacional forte, proximid...   \n",
       "1  Forças: CREDIBILIDADE, CAPACIDADE TÉCNICA E VE...   \n",
       "2  Forças: qualidade do produto, credibilidade da...   \n",
       "3  Forças, regras de negócio bem consolidadas no ...   \n",
       "4  Forças: credibilidade da marca, equipe técnica...   \n",
       "5  Força: executar importação, prezar pela qualid...   \n",
       "\n",
       "                                 OBJETIVO FINANCEIRO  \\\n",
       "0         O1: Crescer receita de forma exponencial​.   \n",
       "1  O1: Alcançar saúde financeira, otimizando cust...   \n",
       "2  O1: Tornar a empresa independente financeirame...   \n",
       "3           O1: Garantir a rentabilidade do negócio.   \n",
       "4  O1: Ser uma empresa lucrativa, rentável e sust...   \n",
       "5                     O1: Crescer de forma rentável.   \n",
       "\n",
       "                         RESULTADOS CHAVE FINANCEIRO  \\\n",
       "0  O1KR1: Aumentar a receita de R$X para R$Y. O1K...   \n",
       "1  O1KR1: Garantir fluxo de caixa positivo (plane...   \n",
       "2  O1KR1: Aumentar faturamento anual de R$X para ...   \n",
       "3  O1KR1: Crescer 25% do faturamento. O1KR2: Gara...   \n",
       "4  O1KR1: Aumentar o faturamento em X%. O1KR2: Re...   \n",
       "5  O1KR1: Aumentar as receitas de R$X para R$Y em...   \n",
       "\n",
       "                         OBJETIVO CLIENTES E MERCADO  \\\n",
       "0  O2: Ampliar a oferta de crédito e serviços, tr...   \n",
       "1  O2: Transformar cada contato com o cliente em ...   \n",
       "2  O2: Ampliar a presença e o reconhecimento da m...   \n",
       "3  O2 : Tornar nossos clientes apaixonados pela m...   \n",
       "4  O2: Estar presente em todas as cidades do Brasil.   \n",
       "5  O2: Transformar cada ponto de contato em uma e...   \n",
       "\n",
       "                 RESULTADOS CHAVE CLIENTES E MERCADO  \\\n",
       "0  O2KR1: Aumentar a base de pessoa física do set...   \n",
       "1  O2KR1: Implantar novo modelo de gestão 5 Estre...   \n",
       "2  O2KR1: Implementar dois novos canais de venda ...   \n",
       "3  O2KR1: Atender tickets dentro do SLA: de 65% p...   \n",
       "4  O2KR1: Reduzir a taxa de transformação da marc...   \n",
       "5  O2KR1: Atingir 20% da taxa de conversão. O2KR2...   \n",
       "\n",
       "                                  OBJETIVO PROCESSOS  \\\n",
       "0  O3: Otimizar o fluxo de trabalho, proporcionan...   \n",
       "1  O3: Assegurar custo, prazo e qualidade das obras.   \n",
       "2  O3: Ser a fábrica mais eficiente do segmento d...   \n",
       "3                 O3: Ser excelente em tudo que faz.   \n",
       "4  O3: Ser a melhor empresa de melão e melancia d...   \n",
       "5                                                NaN   \n",
       "\n",
       "                          RESULTADOS CHAVE PROCESSOS  \\\n",
       "0  O3KR1:​ Aumentar o percentual de entregas no p...   \n",
       "1  O3KR1: Reduzir a quantidade de revisão de proj...   \n",
       "2  O3KR1: Alcançar 10 pontos no WCM em 2023. O3KR...   \n",
       "3  O3KR1: Padronizar 4 processos e suas respectiv...   \n",
       "4  O3KR1: Aumentar a  produtividade média do melã...   \n",
       "5                                                NaN   \n",
       "\n",
       "                                    OBJETIVO PESSOAS  \\\n",
       "0  O4: Fortalecer a cultura organizacional basead...   \n",
       "1  O4: Fortalecer o orgulho em ser parte da empresa.   \n",
       "2  O4: Transformar a vida dos nossos colaboradore...   \n",
       "3  O4: Ser reconhecida como a melhor empresa para...   \n",
       "4  O4: Ser uma empresa na qual as pessoas se orgu...   \n",
       "5  O4:  Fortalecer a cultura de engajamento do ne...   \n",
       "\n",
       "                            RESULTADOS CHAVE PESSOAS  \\\n",
       "0  O4KR1: Obter o selo GPTW (nota>70) até 07/24. ...   \n",
       "1  O4KR1: Atingir a nota ≥80% na pesquisa de sati...   \n",
       "2  O4KR1: Obter a certificação de GPTW até o fina...   \n",
       "3  O4KR1: Implementar um programa de desenvolvime...   \n",
       "4  O4KR1: Reduzir rotatividade de X para Y. O4KR2...   \n",
       "5  O4KR1: Aumentar a satisfação dos colaboradores...   \n",
       "\n",
       "                                                OKRs  \n",
       "0  O1: Crescer receita de forma exponencial​. O1K...  \n",
       "1  O1: Alcançar saúde financeira, otimizando cust...  \n",
       "2  O1: Tornar a empresa independente financeirame...  \n",
       "3  O1: Garantir a rentabilidade do negócio. O1KR1...  \n",
       "4  O1: Ser uma empresa lucrativa, rentável e sust...  \n",
       "5  O1: Crescer de forma rentável. O1KR1: Aumentar...  "
      ]
     },
     "execution_count": 6,
     "metadata": {},
     "output_type": "execute_result"
    }
   ],
   "source": [
    "df_ = df.iloc[:, :]\n",
    "df_"
   ]
  },
  {
   "cell_type": "code",
   "execution_count": 7,
   "id": "d3d5cd7b",
   "metadata": {
    "ExecuteTime": {
     "end_time": "2024-07-29T22:45:17.755241Z",
     "start_time": "2024-07-29T22:45:17.746287Z"
    }
   },
   "outputs": [
    {
     "data": {
      "text/plain": [
       "Index(['MERCADO', 'VISÃO', 'SWOT', 'OBJETIVO FINANCEIRO',\n",
       "       'RESULTADOS CHAVE FINANCEIRO', 'OBJETIVO CLIENTES E MERCADO',\n",
       "       'RESULTADOS CHAVE CLIENTES E MERCADO', 'OBJETIVO PROCESSOS',\n",
       "       'RESULTADOS CHAVE PROCESSOS', 'OBJETIVO PESSOAS',\n",
       "       'RESULTADOS CHAVE PESSOAS', 'OKRs'],\n",
       "      dtype='object')"
      ]
     },
     "execution_count": 7,
     "metadata": {},
     "output_type": "execute_result"
    }
   ],
   "source": [
    "df_.columns"
   ]
  },
  {
   "cell_type": "code",
   "execution_count": 8,
   "id": "1e11b04f",
   "metadata": {
    "ExecuteTime": {
     "end_time": "2024-07-29T22:45:19.003757Z",
     "start_time": "2024-07-29T22:45:18.986072Z"
    }
   },
   "outputs": [],
   "source": [
    "renomear = {\n",
    "    'OBJETIVO FINANCEIRO':'OBJETIVOFINANCEIRO','RESULTADOS CHAVE FINANCEIRO':'RESULTADOSCHAVEFINANCEIRO', \n",
    "    'OBJETIVO CLIENTES E MERCADO':'OBJETIVOCLIENTESEMERCADO', 'RESULTADOS CHAVE CLIENTES E MERCADO':'RESULTADOSCHAVECLIENTESEMERCADO', \n",
    "    'OBJETIVO PROCESSOS':'OBJETIVOPROCESSOS', 'RESULTADOS CHAVE PROCESSOS': 'RESULTADOSCHAVEPROCESSOS', \n",
    "    'OBJETIVO PESSOAS':'OBJETIVOPESSOAS', 'RESULTADOS CHAVE PESSOAS':'RESULTADOSCHAVEPESSOAS'\n",
    "}\n",
    "\n",
    "df_.rename(columns=renomear, inplace=True)"
   ]
  },
  {
   "cell_type": "code",
   "execution_count": 9,
   "id": "a61442f2",
   "metadata": {
    "ExecuteTime": {
     "end_time": "2024-07-29T22:45:27.107287Z",
     "start_time": "2024-07-29T22:45:27.085088Z"
    }
   },
   "outputs": [],
   "source": [
    "df_.to_json('mapa_indicadores_GPT_okrs.json')"
   ]
  },
  {
   "cell_type": "code",
   "execution_count": 10,
   "id": "ac684ea9",
   "metadata": {
    "ExecuteTime": {
     "end_time": "2024-07-29T22:45:27.324191Z",
     "start_time": "2024-07-29T22:45:27.309100Z"
    }
   },
   "outputs": [],
   "source": [
    "with open('mapa_indicadores_GPT_okrs.json', 'r') as file:\n",
    "    data = json.load(file)\n",
    "df = pd.DataFrame(data)"
   ]
  },
  {
   "cell_type": "code",
   "execution_count": 30,
   "id": "0274cb4c",
   "metadata": {
    "ExecuteTime": {
     "end_time": "2024-07-29T22:58:35.999098Z",
     "start_time": "2024-07-29T22:58:35.309479Z"
    }
   },
   "outputs": [
    {
     "name": "stdout",
     "output_type": "stream",
     "text": [
      "Classe limpa: {'classes': []}, está ativa -> True\n"
     ]
    }
   ],
   "source": [
    "weaviate_client = weaviate.Client(\"http://localhost:8081\", \n",
    "                                  additional_headers = {\"X-OpenAI-Api-Key\": secretk} \n",
    "                                 )\n",
    "\n",
    "schema_ = weaviate_client.schema.get()\n",
    "\n",
    "# deletando a classe existente\n",
    "weaviate_client.schema.delete_all()\n",
    "print(f\"Classe limpa: {weaviate_client.schema.get()}, está ativa -> {weaviate_client.is_ready()}\")"
   ]
  },
  {
   "cell_type": "code",
   "execution_count": 31,
   "id": "ccc1d7c1",
   "metadata": {
    "ExecuteTime": {
     "end_time": "2024-07-29T22:58:37.091681Z",
     "start_time": "2024-07-29T22:58:37.086643Z"
    }
   },
   "outputs": [
    {
     "data": {
      "text/plain": [
       "Index(['MERCADO', 'VISÃO', 'SWOT', 'OBJETIVOFINANCEIRO',\n",
       "       'RESULTADOSCHAVEFINANCEIRO', 'OBJETIVOCLIENTESEMERCADO',\n",
       "       'RESULTADOSCHAVECLIENTESEMERCADO', 'OBJETIVOPROCESSOS',\n",
       "       'RESULTADOSCHAVEPROCESSOS', 'OBJETIVOPESSOAS', 'RESULTADOSCHAVEPESSOAS',\n",
       "       'OKRs'],\n",
       "      dtype='object')"
      ]
     },
     "execution_count": 31,
     "metadata": {},
     "output_type": "execute_result"
    }
   ],
   "source": [
    "df.columns"
   ]
  },
  {
   "cell_type": "markdown",
   "id": "56fcace1",
   "metadata": {},
   "source": [
    "#### Classe"
   ]
  },
  {
   "cell_type": "code",
   "execution_count": 32,
   "id": "55f0d698",
   "metadata": {
    "ExecuteTime": {
     "end_time": "2024-07-29T22:58:38.932052Z",
     "start_time": "2024-07-29T22:58:38.842626Z"
    }
   },
   "outputs": [
    {
     "name": "stdout",
     "output_type": "stream",
     "text": [
      "Dados deletados da classe.\n",
      "Nova classe criada!\n"
     ]
    }
   ],
   "source": [
    "try:\n",
    "    weaviate_client.schema.delete_class(\"OKRs\")\n",
    "except:\n",
    "    print(\"Erro ao deletar classe!\")\n",
    "finally:\n",
    "    print(\"Dados deletados da classe.\")\n",
    "    \n",
    "minha_classe = {\n",
    "    \n",
    "    \"class\" : \"OKRs\", \n",
    "    \"description\":\"Aqui seguem exemplos de análises SWOT que geram OKR's.\",\n",
    "    \"invertedIndexConfig\": {\n",
    "        \"cleanupIntervalSeconds\": 60\n",
    "      },\n",
    "    \n",
    "    \n",
    "    # 'SWOT', 'OBJETIVO1', 'RESULTADOS-CHAVE1', 'OBJETIVO2', 'RESULTADOS-CHAVE2'\n",
    "                \"properties\": [\n",
    "                        {\"name\": \"SWOT\",\n",
    "                         \"dataType\": [\"text\"],\n",
    "                         \"description\":\"Contém o texto base do documento com OPORTUNIDADES DE MELHORIA(SOLUÇÃO INVESTIMENTO GANHOS)\", \n",
    "                        },\n",
    "                    \n",
    "                        {\"name\": \"VISAO\",\n",
    "                         \"dataType\": [\"string\"],\n",
    "                         \"description\":\"Visao do mercado.\"\n",
    "                         },\n",
    "                    \n",
    "                        {\"name\": \"MERCADO\",\n",
    "                         \"dataType\": [\"string\"],\n",
    "                         \"description\":\"nicho mercadologico.\"\n",
    "                         },\n",
    "                    \n",
    "                         {\"name\": \"OBJETIVOFINANCEIRO\",\n",
    "                         \"dataType\": [\"string\"],\n",
    "                         \"description\":\"objetivos implementados de acordo com a análise SWOT com intuito financeiro.\"\n",
    "                         },\n",
    "                        {\"name\": \"RESULTADOSCHAVEFINANCEIRO\",\n",
    "                             \"dataType\": [\"text\"],\n",
    "                             \"description\":\"resultados chave para o objetivo financeiro.\"\n",
    "                             },                  \n",
    "              \n",
    "                         {\"name\": \"OBJETIVOCLIENTESEMERCADO\",\n",
    "                         \"dataType\": [\"string\"],\n",
    "                         \"description\":\"objetivos implementados de acordo com a análise SWOT com intuito de analisar os clientes e o mercado.\"\n",
    "                         },\n",
    "                        {\"name\": \"RESULTADOSCHAVECLIENTESEMERCADO\",\n",
    "                             \"dataType\": [\"text\"],\n",
    "                             \"description\":\"resultados chave para o objetivo de clientes e mercado.\"\n",
    "                             },\n",
    "                    \n",
    "                    \n",
    "                             {\"name\": \"OBJETIVOPROCESSOS\",\n",
    "                         \"dataType\": [\"string\"],\n",
    "                         \"description\":\"objetivos implementados de acordo com a análise SWOT com intuito de analisar os processos.\"\n",
    "                         },\n",
    "                        {\"name\": \"RESULTADOSCHAVEPROCESSOS\",\n",
    "                             \"dataType\": [\"text\"],\n",
    "                             \"description\":\"resultados chave para o objetivo de processos.\"\n",
    "                             },\n",
    "                    \n",
    "                    \n",
    "                     {\"name\": \"OBJETIVOPESSOAS\",\n",
    "                         \"dataType\": [\"string\"],\n",
    "                         \"description\":\"objetivos implementados de acordo com a análise SWOT com intuito de analisar pessoas.\"\n",
    "                         },\n",
    "                        {\"name\": \"RESULTADOSCHAVEPESSOAS\",\n",
    "                             \"dataType\": [\"text\"],\n",
    "                             \"description\":\"resultados chave para o objetivo pessoas.\"\n",
    "                             },\n",
    "                    \n",
    "                        {\"name\": \"OKRs\",\n",
    "                             \"dataType\": [\"text\"],\n",
    "                             \"description\":\"OKRs que são gerados a partir da VISAO, MERCADO, OBJETIVOS e RESULTADOS.\"\n",
    "                             } \n",
    "                  ],\n",
    "    \n",
    "    \"vectorizer\": \"text2vec-openai\",\n",
    "    \n",
    "    # gpt-3.5-turbo | gpt-3.5-turbo-16k | gpt-3.5-turbo-1106 | gpt-4 | gpt-4-32k | gpt-4-1106-preview\n",
    "    \n",
    "    \"moduleConfig\": {\n",
    "        \"generative-openai\": {\n",
    "          \"model\": \"gpt-3.5-turbo-16k\",\n",
    "          \"temperatureProperty\": 0.7,  \n",
    "          \"maxTokensProperty\":500,  \n",
    "          #\"frequencyPenaltyProperty\": <frequency_penalty>,  // Optional, applicable to both OpenAI and Azure OpenAI\n",
    "          #\"presencePenaltyProperty\": <presence_penalty>,  // Optional, applicable to both OpenAI and Azure OpenAI\n",
    "          \"topPProperty\": 3,\n",
    "        },\n",
    "        \n",
    "        \"text2vec-openai\": {\n",
    "          \"model\": \"text-embedding-3-large\",\n",
    "          \"dimensions\": 3072,\n",
    "          \"type\": \"text\"          \n",
    "        }\n",
    "        \n",
    "      },\n",
    "    \n",
    "    # Configure the vector index\n",
    "    \"vectorIndexType\": \"hnsw\",\n",
    "    \"vectorIndexConfig\": {\n",
    "        \"distance\": \"cosine\",\n",
    "        \"pq\": {\n",
    "            \"enabled\": True,\n",
    "            \"segments\": 192\n",
    "        },\n",
    "    },\n",
    "    # Configure the inverted index\n",
    "    \"indexTimestamps\": True,\n",
    "    \"indexNullState\": True,\n",
    "    \"indexPropertyLength\": True,\n",
    "\n",
    "}\n",
    "\n",
    "\n",
    "weaviate_client.schema.create_class(minha_classe)\n",
    "print(\"Nova classe criada!\")   "
   ]
  },
  {
   "cell_type": "markdown",
   "id": "aca594bc",
   "metadata": {},
   "source": [
    "### Tratamento de dados e BATCH ADD"
   ]
  },
  {
   "cell_type": "code",
   "execution_count": 33,
   "id": "fa66f105",
   "metadata": {
    "ExecuteTime": {
     "end_time": "2024-07-29T22:58:41.413357Z",
     "start_time": "2024-07-29T22:58:41.408030Z"
    }
   },
   "outputs": [
    {
     "data": {
      "text/plain": [
       "Index(['MERCADO', 'VISÃO', 'SWOT', 'OBJETIVOFINANCEIRO',\n",
       "       'RESULTADOSCHAVEFINANCEIRO', 'OBJETIVOCLIENTESEMERCADO',\n",
       "       'RESULTADOSCHAVECLIENTESEMERCADO', 'OBJETIVOPROCESSOS',\n",
       "       'RESULTADOSCHAVEPROCESSOS', 'OBJETIVOPESSOAS', 'RESULTADOSCHAVEPESSOAS',\n",
       "       'OKRs'],\n",
       "      dtype='object')"
      ]
     },
     "execution_count": 33,
     "metadata": {},
     "output_type": "execute_result"
    }
   ],
   "source": [
    "df.columns"
   ]
  },
  {
   "cell_type": "code",
   "execution_count": 34,
   "id": "7dd0a276",
   "metadata": {
    "ExecuteTime": {
     "end_time": "2024-07-29T22:58:41.591140Z",
     "start_time": "2024-07-29T22:58:41.587320Z"
    }
   },
   "outputs": [],
   "source": [
    "df.reset_index(drop=True, level=0, inplace=True)"
   ]
  },
  {
   "cell_type": "code",
   "execution_count": 35,
   "id": "0b061fc2",
   "metadata": {
    "ExecuteTime": {
     "end_time": "2024-07-29T22:58:41.750094Z",
     "start_time": "2024-07-29T22:58:41.746505Z"
    }
   },
   "outputs": [],
   "source": [
    "df = df.fillna(\" \")"
   ]
  },
  {
   "cell_type": "code",
   "execution_count": 36,
   "id": "443136de",
   "metadata": {
    "ExecuteTime": {
     "end_time": "2024-07-29T22:58:41.931334Z",
     "start_time": "2024-07-29T22:58:41.924971Z"
    }
   },
   "outputs": [
    {
     "data": {
      "text/plain": [
       "Index(['MERCADO', 'VISÃO', 'SWOT', 'OBJETIVOFINANCEIRO',\n",
       "       'RESULTADOSCHAVEFINANCEIRO', 'OBJETIVOCLIENTESEMERCADO',\n",
       "       'RESULTADOSCHAVECLIENTESEMERCADO', 'OBJETIVOPROCESSOS',\n",
       "       'RESULTADOSCHAVEPROCESSOS', 'OBJETIVOPESSOAS', 'RESULTADOSCHAVEPESSOAS',\n",
       "       'OKRs'],\n",
       "      dtype='object')"
      ]
     },
     "execution_count": 36,
     "metadata": {},
     "output_type": "execute_result"
    }
   ],
   "source": [
    "df.columns"
   ]
  },
  {
   "cell_type": "code",
   "execution_count": 37,
   "id": "2e60b759",
   "metadata": {
    "ExecuteTime": {
     "end_time": "2024-07-29T22:58:43.598232Z",
     "start_time": "2024-07-29T22:58:43.588979Z"
    }
   },
   "outputs": [
    {
     "data": {
      "text/plain": [
       "[{'MERCADO': 'Banco',\n",
       "  'VISAO': 'Transformar vidas, facilitando o crédito.',\n",
       "  'SWOT': 'Forças: cultura organizacional forte, proximidade com o cliente B2B, tecnologia própria, empresa regulamentada pelo BACEN, empresa escalável, dados disponíveis para gestão (BI), base para upsell e crossell, mindset de startup. Fraquezas: elaboração e execução de projetos, falta de processos integrados, gestão executando operacional, comunicação externa e interna, poucas automações de processos, alto custo operacional, falta de processos integrados, mix de produtos restrito para PJ e PF, falta de personalização do crédito (score), falta de foco na experiência do usuário. Oportunidades: falta de personalização do mercado para soluções financeiras e agilidade em fazer acontecer, carência na oferta de produtos e serviços financeiros direcionados para pequeno e médio PJ, restrição de crédito e alto nível de endividamento, transformação digital pós pandemia, grande quantidade de canais alternativos de vendas, inexistência de empresas concorrentes que ofereçam o conceito ONE STOP shopping para o RH. Ameaças: cenário político e econômico, portabilidade, entrada de novos concorrentes e dos bancos com foco na folha, open finance/ superapp bacen, ataque cibernético e fraudes, novas regulamentações.',\n",
       "  'OBJETIVOFINANCEIRO': 'O1: Crescer receita de forma exponencial\\u200b.',\n",
       "  'RESULTADOSCHAVEFINANCEIRO': 'O1KR1: Aumentar a receita de R$X para R$Y. O1KR2: Atingir 95% do EBTDA orçado.',\n",
       "  'OBJETIVOCLIENTESEMERCADO': 'O2: Ampliar a oferta de crédito e serviços, transformando vidas\\u200b.',\n",
       "  'RESULTADOSCHAVECLIENTESEMERCADO': 'O2KR1: Aumentar a base de pessoa física do setor privado de X para Y. O2KR2: Aumentar a receita média por conta de R$X para R$Y. O2KR3: Aumentar a nota do google meu negócio de 2,9 para 4. O2KR4: Aumentar a nota de satisfação das lojas\\xa0de 3 para 4.5.',\n",
       "  'OBJETIVOPROCESSOS': 'O3: Otimizar o fluxo de trabalho, proporcionando entregas mais rápidas e seguras.',\n",
       "  'RESULTADOSCHAVEPROCESSOS': 'O3KR1:\\u200b Aumentar o percentual de entregas no prazo de X% para Y% dos chamados críticos. O3KR2: Reduzir o número de chamados em 28%. O3KR3: Atingir produtividade de 108 story points por mês.',\n",
       "  'OBJETIVOPESSOAS': 'O4: Fortalecer a cultura organizacional baseada nos novos valores.',\n",
       "  'RESULTADOSCHAVEPESSOAS': 'O4KR1: Obter o selo GPTW (nota>70) até 07/24. O4KR2: Atingir média 4,5 na avaliação trimestral sobre cultura. O4KR3: Manter nota 9 nas pesquisas de clima.',\n",
       "  'OKRs': 'O1: Crescer receita de forma exponencial\\u200b. O1KR1: Aumentar a receita de R$X para R$Y. O1KR2: Atingir 95% do EBTDA orçado. O2: Ampliar a oferta de crédito e serviços, transformando vidas\\u200b. O2KR1: Aumentar a base de pessoa física do setor privado de X para Y. O2KR2: Aumentar a receita média por conta de R$X para R$Y. O2KR3: Aumentar a nota do google meu negócio de 2,9 para 4. O2KR4: Aumentar a nota de satisfação das lojas\\xa0de 3 para 4.5. O3: Otimizar o fluxo de trabalho, proporcionando entregas mais rápidas e seguras. O3KR1:\\u200b Aumentar o percentual de entregas no prazo de X% para Y% dos chamados críticos. O3KR2: Reduzir o número de chamados em 28%. O3KR3: Atingir produtividade de 108 story points por mês. O4: Fortalecer a cultura organizacional baseada nos novos valores. O4KR1: Obter o selo GPTW (nota>70) até 07/24. O4KR2: Atingir média 4,5 na avaliação trimestral sobre cultura. O4KR3: Manter nota 9 nas pesquisas de clima.'},\n",
       " {'MERCADO': 'Imobiliária',\n",
       "  'VISAO': 'Ser reconhecida entre as 5 melhores construtoras do Ceará como marca de confiança e qualidade até 2028.',\n",
       "  'SWOT': 'Forças: CREDIBILIDADE, CAPACIDADE TÉCNICA E VERSATILIDADE PARA DESENVOLVER SOLUÇÕES (ENGENHARIA DE VALOR), FLEXIBILIDADE E PERSONALIZAÇÃO NO ATENDIMENTO AO CLIENTE, EQUIPE ENGAJADA E PRODUTIVA, PRODUTO FINAL ENTREGUE COM QUALIDADE E NO PRAZO, FLEXIBILIDADE DE NEGOCIAÇÃO, CANAIS DE CRÉDITO E PROSPECÇÃO DE TERRENOS PARA CLIENTES. Fraquezas: PLANEJAMENTO E CONTROLE DE OBRA, CONHECIMENTO DA JORNADA DO CLIENTE, VISÃO DE PROCESSOS (HORIZONTALIZAÇÃO), VISÃO E ATUAÇÃO ESTRATÉGICA (FORMULAÇÃO, ALINHAMENTO E MONITORAMENTO), CULTURA DE COMUNICAÇÃO, ORÇAMENTO EMPRESARIAL, GESTÃO DO CONHECIMENTO E LIÇÕES APRENDIDAS, ANÁLISE CRÍTICA DAS SOLUÇÕES TÉCNICAS, GESTÃO DO DESENVOLVIMENTO E EXECUÇÃO DOS PROJETOS DE OBRA, AUSÊNCIA DE MERITOCRACIA, BAIXO NETWORKING DE MERCADO, POSICIONAMENTO DE MARCA É POUCO EXPLORADA NOS CANAIS DE COMUNICAÇÃO. Oportunidades: NOVAS PRAÇAS COM MERCADO AQUECIDO, INCORPORADORAS ABANDONANDO AS OBRAS DE CONSTRUÇÃO, NOVAS TECNOLOGIAS DE GESTÃO, SURGIMENTO DE NOVOS MÉTODOS CONSTRUTIVOS, INCORPORADORAS CONCORRENTES POSSUEM HOUSE DE VENDAS, NOVAS TENDÊNCIAS DE MERCADO, CEARÁ SE POSICIONANDO COMO UM POLO ATRATIVO PARA NEGÓCIOS. Ameaças: JUROS ALTOS, CONCORRENTES MAIS ESTRUTURADOS NO POSICIONAMENTO DE MARCA E COMUNICAÇÃO, CONDOMÍNIOS HORIZONTAIS E MERCADO INFORMAL DE MÃO DE OBRA, INSTABILIDADE POLÍTICA, VELOCIDADE DE MUDANÇA DO PERFIL DE CONSUMO, PLANO DIRETOR/REGULAMENTAÇÃO GOVERNAMENTAL, AUMENTO DO CUSTO DE INSUMOS, ESCASSEZ DE MÃO DE OBRA, REFORMA TRIBUTÁRIA, PREÇO PRATICADO PELO MERCADO, BAIXA MATURIDADE DO CLIENTE EM ENGENHARIA.',\n",
       "  'OBJETIVOFINANCEIRO': 'O1: Alcançar saúde financeira, otimizando custos e aumentando a rentabilidade.',\n",
       "  'RESULTADOSCHAVEFINANCEIRO': 'O1KR1: Garantir fluxo de caixa positivo (planejamento de despesas e receitas do período). O1KR2: Aumentar o faturamento de XM para XM até o final de 2024. O1KR3: Atingir 90% das margem projetadas para todos os negócios em 2024. O1KR4: Implantar indicador de endividamento estratégico até Março/24.',\n",
       "  'OBJETIVOCLIENTESEMERCADO': 'O2: Transformar cada contato com o cliente em uma experiência positiva.',\n",
       "  'RESULTADOSCHAVECLIENTESEMERCADO': 'O2KR1: Implantar novo modelo de gestão 5 Estrelas no atendimento aos clientes. O2KR2: Implantar sistema único de comunicação com os clientes.',\n",
       "  'OBJETIVOPROCESSOS': 'O3: Assegurar custo, prazo e qualidade das obras.',\n",
       "  'RESULTADOSCHAVEPROCESSOS': 'O3KR1: Reduzir a quantidade de revisão de projetos por erro/falhas na fase de obra em até X%. O3KR2: Manter prazo de entrega em 100% do contrato com o cliente. O3KR3: Garantir desvio máximo do orçamento de meta em X% para mais. O3KR4: Reduzir a quantidade de reinspeção não conformes das obras durante a execução em até X%.',\n",
       "  'OBJETIVOPESSOAS': 'O4: Fortalecer o orgulho em ser parte da empresa.',\n",
       "  'RESULTADOSCHAVEPESSOAS': 'O4KR1: Atingir a nota ≥80% na pesquisa de satisfação anual nos escritórios e áreas administrativas das obras. O4KR2: Atingir média ≥80% na avaliação de desempenho baseada nos valores + indicadores de resultados nos escritórios e áreas administrativas das obras.',\n",
       "  'OKRs': 'O1: Alcançar saúde financeira, otimizando custos e aumentando a rentabilidade. O1KR1: Garantir fluxo de caixa positivo (planejamento de despesas e receitas do período). O1KR2: Aumentar o faturamento de XM para XM até o final de 2024. O1KR3: Atingir 90% das margem projetadas para todos os negócios em 2024. O1KR4: Implantar indicador de endividamento estratégico até Março/24. O2: Transformar cada contato com o cliente em uma experiência positiva. O2KR1: Implantar novo modelo de gestão 5 Estrelas no atendimento aos clientes. O2KR2: Implantar sistema único de comunicação com os clientes. O3: Assegurar custo, prazo e qualidade das obras. O3KR1: Reduzir a quantidade de revisão de projetos por erro/falhas na fase de obra em até X%. O3KR2: Manter prazo de entrega em 100% do contrato com o cliente. O3KR3: Garantir desvio máximo do orçamento de meta em X% para mais. O3KR4: Reduzir a quantidade de reinspeção não conformes das obras durante a execução em até X%. O4: Fortalecer o orgulho em ser parte da empresa. O4KR1: Atingir a nota ≥80% na pesquisa de satisfação anual nos escritórios e áreas administrativas das obras. O4KR2: Atingir média ≥80% na avaliação de desempenho baseada nos valores + indicadores de resultados nos escritórios e áreas administrativas das obras.'},\n",
       " {'MERCADO': 'Indústria de alimentos',\n",
       "  'VISAO': 'Ser a melhor indústria de beneficiamento de castanha de caju do Brasil, nos posicionando a frente do setor através da inovação, qualidade e serviço até 2028.',\n",
       "  'SWOT': 'Forças: qualidade do produto, credibilidade da marca e bom relacionamento com clientes e fornecedores (tradição), liderança e equipe motivada, possui hub logístico, vendas diretas, possui área de pesquisa e desenvolvimento. Fraquezas: Necessidade de aprimoramento gestão de processos, necessidade de aprimoramento da gestão de pessoas, ausência de certificações\\xa0 de qualidade, necessidade de adequações regulatórias, estrutura física e maquinários defasados, ausência de sistema de gestão integrado, aprimoramento do PCP (lead time - pedido a entrega), poucos canais de vendas e dependência de representantes terceirizados. Oportunidades: novos canais de vendas, preço e volume de castanha in natura em ofertas, tecnologia de máquinas e tecnologia de automação (Indústria 4.0), demanda por novos produtos e derivados\\xa0castanha, novas formas de logística e expedição (Fulfillment), demanda por produtos no mercado nordeste, tecnologias para gestão da operação e back office com IA integrado. Ameaças: cartel de fornecedores de matéria prima, estabilidade da safra agrícola, super oferta de produtos e subprodutos gerando guerras de preços entre concorrentes, grandes concorrentes voltados para mercado nacional, oscilação econômica causando a redução do poder de consumo no mercado internacional e nacional.',\n",
       "  'OBJETIVOFINANCEIRO': 'O1: Tornar a empresa independente financeiramente.',\n",
       "  'RESULTADOSCHAVEFINANCEIRO': 'O1KR1: Aumentar faturamento anual de R$X para R$Y em 2023. O1KR2: Aumentar a margem bruta de X% para Y%\\xa0até final de 2023. O1KR3: Aumentar o lucro líquido de X% para Y% até final de 2023.',\n",
       "  'OBJETIVOCLIENTESEMERCADO': 'O2: Ampliar a presença e o reconhecimento da marca no mercado nacional.',\n",
       "  'RESULTADOSCHAVECLIENTESEMERCADO': 'O2KR1: Implementar dois novos canais de venda até final de 2023. O2KR2: Reduzir lead time de pedido até entrega em 20% por região. O2KR3: Implementar fullfilment até dezembro 2023.',\n",
       "  'OBJETIVOPROCESSOS': 'O3: Ser a fábrica mais eficiente do segmento de castanha de caju.',\n",
       "  'RESULTADOSCHAVEPROCESSOS': 'O3KR1: Alcançar 10 pontos no WCM em 2023. O3KR2: Reduzir lead time de produção de 24 dias para abaixo de 20 dias.',\n",
       "  'OBJETIVOPESSOAS': 'O4: Transformar a vida dos nossos colaboradores e a população da nossa região.',\n",
       "  'RESULTADOSCHAVEPESSOAS': 'O4KR1: Obter a certificação de GPTW até o final de 2023. O4KR2: Implementar um programa de desenvolvimento de líderes e o plano de desenvolvimento individual do colaborador até o final de 2023. O4KR3: Manter resultado da pesquisa de clima organizacional acima de 90%.',\n",
       "  'OKRs': 'O1: Tornar a empresa independente financeiramente. O1KR1: Aumentar faturamento anual de R$X para R$Y em 2023. O1KR2: Aumentar a margem bruta de X% para Y%\\xa0até final de 2023. O1KR3: Aumentar o lucro líquido de X% para Y% até final de 2023. O2: Ampliar a presença e o reconhecimento da marca no mercado nacional. O2KR1: Implementar dois novos canais de venda até final de 2023. O2KR2: Reduzir lead time de pedido até entrega em 20% por região. O2KR3: Implementar fullfilment até dezembro 2023. O3: Ser a fábrica mais eficiente do segmento de castanha de caju. O3KR1: Alcançar 10 pontos no WCM em 2023. O3KR2: Reduzir lead time de produção de 24 dias para abaixo de 20 dias. O4: Transformar a vida dos nossos colaboradores e a população da nossa região. O4KR1: Obter a certificação de GPTW até o final de 2023. O4KR2: Implementar um programa de desenvolvimento de líderes e o plano de desenvolvimento individual do colaborador até o final de 2023. O4KR3: Manter resultado da pesquisa de clima organizacional acima de 90%.'},\n",
       " {'MERCADO': 'Tecnologia',\n",
       "  'VISAO': 'Ser referência nacional em soluções de gestão para operadoras de planos odontológicos e pets.\\u200b',\n",
       "  'SWOT': 'Forças, regras de negócio bem consolidadas no sistema odontológico, relacionamento de confiança com os clientes, equipes de fácil acesso para o cliente, sistema customizável, suporte próximo ao cliente, tempo de resposta e resolutividade ao cliente de forma rápida, comercial com atendimento especializado, investimento na área de gestão, flexibilidade na negociação de prazos de pagamentos, desenvolvimento ágil, atendimento humanizado ao cliente, gestão humanizada aos colaboradores internos, conhecimento das regras de negócio e mercado, administração horizontal, processo de implantação bem estruturado, ERP robusto e mais competitivo do mercado. Fraquezas: falta de disciplina, incapacidade de lidar com pressão, dificuldades no relacionamento e comunicação direta com clientes, falta de um sistema de gestão de CS, falta de um plano de cargos e salários, PDI e PDL, ausência de processos bem definidos (desenvolvimento, suporte, implantação, administrativo, financeiro e RH), falta de documentação e treinamento sobre os processos citados acima, falta de comunicação interna, falta de gestão das redes sociais (marketing digital), falta de documentação sobre o código, falta de rastreabilidade no código, falta de padronização para catalogar regras de negócio, baixo conhecimento das regras de negócio do sistema, demora na resposta para requisições dos clientes pelo suporte e desenvolvimento, backlog de demandas não atendidas que geram retrabalho, impossibilidade de geração de relatórios e campanhas, defeitos recorrentes do sistema em produção. Oportunidades: abertura para novos mercados (Pet), grande demanda de clientes não atendidas (customização em escala), crescimento da demanda de gestão por meio de BI, surgimento de novas tecnologias para diagnóstico clínico, saída de players do mercado, mercado potencial ainda não atendido, surgimento de novas operadoras no mercado. Ameaças: profissionalização dos concorrentes, concorrência forte do mercado para programadores, colaboradores mais exigentes quanto aos benefícios, aquisição entre as operadoras, avanços de tecnologia em novos sistemas, os planos médicos comprando o segmento odontológico, volatilidade do mercado PET, que impede o amadurecimento do sistema.',\n",
       "  'OBJETIVOFINANCEIRO': 'O1: Garantir a rentabilidade do negócio.',\n",
       "  'RESULTADOSCHAVEFINANCEIRO': 'O1KR1: Crescer 25% do faturamento. O1KR2: Garantir que os gastos totais representem 100% da receita total.',\n",
       "  'OBJETIVOCLIENTESEMERCADO': 'O2 : Tornar nossos clientes apaixonados pela marca.',\n",
       "  'RESULTADOSCHAVECLIENTESEMERCADO': 'O2KR1: Atender tickets dentro do SLA: de 65% para 75% dos tickets dentro do SLA. O2KR2: Engajar 100% dos clientes diamantes em todas as soluções do nosso ERP. O2KR3: Alcançar nota 50 de NPS em 2023.',\n",
       "  'OBJETIVOPROCESSOS': 'O3: Ser excelente em tudo que faz.',\n",
       "  'RESULTADOSCHAVEPROCESSOS': 'O3KR1: Padronizar 4 processos e suas respectivas documentações. O3KR2: Implementar processo de gestão de desempenho de indicadores. O3KR3: Aumentar em 20% a métrica de qualidade do software. O3KR4: Aumentar a capacidade de desenvolvimento, de 50 para 60, para atender maior volume de tickets.',\n",
       "  'OBJETIVOPESSOAS': 'O4: Ser reconhecida como a melhor empresa para se trabalhar.',\n",
       "  'RESULTADOSCHAVEPESSOAS': 'O4KR1: Implementar um programa de desenvolvimento de líderes e trilhas de aprendizado até o final do ano. O4KR2: Implementar 4 projetos voltados para a qualidade de vida do colaborador em 2023.',\n",
       "  'OKRs': 'O1: Garantir a rentabilidade do negócio. O1KR1: Crescer 25% do faturamento. O1KR2: Garantir que os gastos totais representem 100% da receita total. O2 : Tornar nossos clientes apaixonados pela marca. O2KR1: Atender tickets dentro do SLA: de 65% para 75% dos tickets dentro do SLA. O2KR2: Engajar 100% dos clientes diamantes em todas as soluções do nosso ERP. O2KR3: Alcançar nota 50 de NPS em 2023. O3: Ser excelente em tudo que faz. O3KR1: Padronizar 4 processos e suas respectivas documentações. O3KR2: Implementar processo de gestão de desempenho de indicadores. O3KR3: Aumentar em 20% a métrica de qualidade do software. O3KR4: Aumentar a capacidade de desenvolvimento, de 50 para 60, para atender maior volume de tickets. O4: Ser reconhecida como a melhor empresa para se trabalhar. O4KR1: Implementar um programa de desenvolvimento de líderes e trilhas de aprendizado até o final do ano. O4KR2: Implementar 4 projetos voltados para a qualidade de vida do colaborador em 2023.'},\n",
       " {'MERCADO': 'Agricultura',\n",
       "  'VISAO': 'Ser referência global na produção de alimentos com excelente sabor, produtividade, qualidade e sanidade.',\n",
       "  'SWOT': 'Forças: credibilidade da marca, equipe técnica efetiva qualificada, cultura organizacional sólida, diretoria acessível e\\xa0 participative, utilização do sistema integrado de gestão (ERP) para tomar decisões, localização geográfica estratégica das fazendas, infraestrutura disponível para produção e equipes, laboratório\\xa0 para produção interna de biológico, tecnologia de rastreabilidade dos processos e desenvolvimento de maquinário próprio. Fraquezas: sistema de gestão de pessoas pouco atrativo para retenção da mão de obra, falta de renovação de frota específica (pulverizadores e colheitadeiras), logística complexa de materiais e viagens de pessoas, pouca variedade no portfólio de produtos, distanciamento dos setores de suporte (logística e suprimentos) das filiais, falta de equipamento para análise nutricional, necessidade de maior agilidade na implantação de melhorias. Oportunidades: exportação para países que exigem área livre de mosca das frutas, tecnologias aceleradas no agronegócio (Automação, IA, IoT), técnicas de conservação do solo, autorização de novos defensivos, crescimento do mercado de energias renováveis e energia elétrica disponível na filial do Ceará, novas variedades de frutas resistentes a\\xa0pragas e\\xa0doenças, novos fornecedores de embalagem e transporte, mercado de alimentação saudável em crescimento. Ameaças: doenças e\\xa0pragas nas plantações, falta de mão de obra operacional e especializada, instabilidade hídrica no Ceará, condições climáticas, ruptura do fornecimento de sementes específicas, fortalecimento do portfólio de produtos dos nossos concorrentes, instabilidade política e econômica.',\n",
       "  'OBJETIVOFINANCEIRO': 'O1: Ser uma empresa lucrativa, rentável e sustentável.',\n",
       "  'RESULTADOSCHAVEFINANCEIRO': 'O1KR1: Aumentar o faturamento em X%. O1KR2: Reduzir o custo do kg nominal de X para Y. O1KR3: Aumentar a margem de lucro de X% para Y%. O1KR4: Aumentar de X% para Y% a participação das variedades de fruta A, B e C na receita total.',\n",
       "  'OBJETIVOCLIENTESEMERCADO': 'O2: Estar presente em todas as cidades do Brasil.',\n",
       "  'RESULTADOSCHAVECLIENTESEMERCADO': 'O2KR1: Reduzir a taxa de transformação da marca premium para outras marcas de X% para Y%. O2KR2: Aumentar a presença do melão e melancia nas cidades brasileiras em X%. O2KR3: Implementar pesquisa de NPS para o cliente e/ou consumidor.',\n",
       "  'OBJETIVOPROCESSOS': 'O3: Ser a melhor empresa de melão e melancia do Brasil.',\n",
       "  'RESULTADOSCHAVEPROCESSOS': 'O3KR1: Aumentar a\\xa0 produtividade média do melão amarelo de X kg/ha para\\xa0Y kg/há. O3KR2: Aumentar o percentual de melão sabor 3, por projeto, de X% para Y%. O3KR3: Atingir tamanho do fruto 5,6,7 em 80% da produção. O3KR4: Coeficiente de Variação da produtividade de X para Y das produções.',\n",
       "  'OBJETIVOPESSOAS': 'O4: Ser uma empresa na qual as pessoas se orgulham de trabalhar.',\n",
       "  'RESULTADOSCHAVEPESSOAS': 'O4KR1: Reduzir rotatividade de X para Y. O4KR2: Reduzir absenteísmo de X para Y. O4KR3: Aumentar o kg nominal por colaborador de X e Y.',\n",
       "  'OKRs': 'O1: Ser uma empresa lucrativa, rentável e sustentável. O1KR1: Aumentar o faturamento em X%. O1KR2: Reduzir o custo do kg nominal de X para Y. O1KR3: Aumentar a margem de lucro de X% para Y%. O1KR4: Aumentar de X% para Y% a participação das variedades de fruta A, B e C na receita total. O2: Estar presente em todas as cidades do Brasil. O2KR1: Reduzir a taxa de transformação da marca premium para outras marcas de X% para Y%. O2KR2: Aumentar a presença do melão e melancia nas cidades brasileiras em X%. O2KR3: Implementar pesquisa de NPS para o cliente e/ou consumidor. O3: Ser a melhor empresa de melão e melancia do Brasil. O3KR1: Aumentar a\\xa0 produtividade média do melão amarelo de X kg/ha para\\xa0Y kg/há. O3KR2: Aumentar o percentual de melão sabor 3, por projeto, de X% para Y%. O3KR3: Atingir tamanho do fruto 5,6,7 em 80% da produção. O3KR4: Coeficiente de Variação da produtividade de X para Y das produções. O4: Ser uma empresa na qual as pessoas se orgulham de trabalhar. O4KR1: Reduzir rotatividade de X para Y. O4KR2: Reduzir absenteísmo de X para Y. O4KR3: Aumentar o kg nominal por colaborador de X e Y.'},\n",
       " {'MERCADO': 'Textil',\n",
       "  'VISAO': 'Gerar conexões e prosperidade para os negócios da moda.\\u200b',\n",
       "  'SWOT': 'Força: executar importação, prezar pela qualidade, gerenciar distribuição de produtos, desenho de loungerie, preço da loungerie. Fraquezas: canais de vendas, segmentação dos clientes, ações de marketing, desempenho das equipes de vendas, soluções de BI e analytics, necessidade de captação financeira, planejar e monitorar compra de materiais, gerir satisfação e fidelidade dos clientes, atendimento nos canais de comunicação com o cliente, atendimento pós-vendas, planejamento e controle do orçamento. Oportunidades: estilista para antecipar demanda, relacionamento com o cliente\\u200b, diferentes canais de vendas, customização do sistema de gestão, novos fornecedores\\u200b, relacionamento com diferentes players do mercado. Ameaças: imprevisibilidade de importações, variação cambial, taxa de juros, cliente com foco no baixo preço, falta de fidelização dos representantes, concorrência acirrada, baixo poder de barganha com os fornecedores.',\n",
       "  'OBJETIVOFINANCEIRO': 'O1: Crescer de forma rentável.',\n",
       "  'RESULTADOSCHAVEFINANCEIRO': 'O1KR1: Aumentar as receitas de R$X para R$Y em 2024. O1KR2: Reduzir de 7% para 0% as despesas financeiras (FIDCs) sobre as receitas. O1KR3: Atingir X% da margem de lucro líquido.',\n",
       "  'OBJETIVOCLIENTESEMERCADO': 'O2: Transformar cada ponto de contato em uma experiência positiva para o cliente gerando negócios rentáveis.',\n",
       "  'RESULTADOSCHAVECLIENTESEMERCADO': 'O2KR1: Atingir 20% da taxa de conversão. O2KR2: Atingir 90% de promotores (NPS).',\n",
       "  'OBJETIVOPROCESSOS': ' ',\n",
       "  'RESULTADOSCHAVEPROCESSOS': ' ',\n",
       "  'OBJETIVOPESSOAS': 'O4:\\xa0 Fortalecer a cultura de engajamento do negócio.',\n",
       "  'RESULTADOSCHAVEPESSOAS': 'O4KR1: Aumentar a satisfação dos colaboradores de 78% para 90%.',\n",
       "  'OKRs': 'O1: Crescer de forma rentável. O1KR1: Aumentar as receitas de R$X para R$Y em 2024. O1KR2: Reduzir de 7% para 0% as despesas financeiras (FIDCs) sobre as receitas. O1KR3: Atingir X% da margem de lucro líquido. O2: Transformar cada ponto de contato em uma experiência positiva para o cliente gerando negócios rentáveis. O2KR1: Atingir 20% da taxa de conversão. O2KR2: Atingir 90% de promotores (NPS). O4:\\xa0 Fortalecer a cultura de engajamento do negócio. O4KR1: Aumentar a satisfação dos colaboradores de 78% para 90%.'}]"
      ]
     },
     "execution_count": 37,
     "metadata": {},
     "output_type": "execute_result"
    }
   ],
   "source": [
    "lista = [] \n",
    "for i in range(len(df)):\n",
    "    lista.append({\n",
    "                    'MERCADO':df['MERCADO'][i],\n",
    "                    'VISAO':df['VISÃO'][i],\n",
    "                    'SWOT':df['SWOT'][i], \n",
    "                    'OBJETIVOFINANCEIRO':df['OBJETIVOFINANCEIRO'][i],\n",
    "                    'RESULTADOSCHAVEFINANCEIRO':df['RESULTADOSCHAVEFINANCEIRO'][i], \n",
    "                    'OBJETIVOCLIENTESEMERCADO':df['OBJETIVOCLIENTESEMERCADO'][i],\n",
    "                    'RESULTADOSCHAVECLIENTESEMERCADO':df['RESULTADOSCHAVECLIENTESEMERCADO'][i],\n",
    "                    'OBJETIVOPROCESSOS':df['OBJETIVOPROCESSOS'][i],\n",
    "                    'RESULTADOSCHAVEPROCESSOS':df['RESULTADOSCHAVEPROCESSOS'][i],\n",
    "                    'OBJETIVOPESSOAS':df['OBJETIVOPESSOAS'][i],\n",
    "                    'RESULTADOSCHAVEPESSOAS':df['RESULTADOSCHAVEPESSOAS'][i],\n",
    "        \n",
    "                    'OKRs':df['OKRs'][i]\n",
    "\n",
    "                 })\n",
    "    \n",
    "lista"
   ]
  },
  {
   "cell_type": "code",
   "execution_count": 38,
   "id": "510b0a1d",
   "metadata": {
    "ExecuteTime": {
     "end_time": "2024-07-29T22:58:44.968967Z",
     "start_time": "2024-07-29T22:58:44.961284Z"
    }
   },
   "outputs": [
    {
     "name": "stdout",
     "output_type": "stream",
     "text": [
      "<class 'pandas.core.frame.DataFrame'>\n",
      "RangeIndex: 6 entries, 0 to 5\n",
      "Data columns (total 12 columns):\n",
      " #   Column                           Non-Null Count  Dtype \n",
      "---  ------                           --------------  ----- \n",
      " 0   MERCADO                          6 non-null      object\n",
      " 1   VISÃO                            6 non-null      object\n",
      " 2   SWOT                             6 non-null      object\n",
      " 3   OBJETIVOFINANCEIRO               6 non-null      object\n",
      " 4   RESULTADOSCHAVEFINANCEIRO        6 non-null      object\n",
      " 5   OBJETIVOCLIENTESEMERCADO         6 non-null      object\n",
      " 6   RESULTADOSCHAVECLIENTESEMERCADO  6 non-null      object\n",
      " 7   OBJETIVOPROCESSOS                6 non-null      object\n",
      " 8   RESULTADOSCHAVEPROCESSOS         6 non-null      object\n",
      " 9   OBJETIVOPESSOAS                  6 non-null      object\n",
      " 10  RESULTADOSCHAVEPESSOAS           6 non-null      object\n",
      " 11  OKRs                             6 non-null      object\n",
      "dtypes: object(12)\n",
      "memory usage: 708.0+ bytes\n"
     ]
    }
   ],
   "source": [
    "df.info()"
   ]
  },
  {
   "cell_type": "code",
   "execution_count": 39,
   "id": "759cb8f5",
   "metadata": {
    "ExecuteTime": {
     "end_time": "2024-07-29T22:58:50.367054Z",
     "start_time": "2024-07-29T22:58:50.362109Z"
    }
   },
   "outputs": [],
   "source": [
    "treino = [dspy.Example(question=f\"\"\"{df['SWOT'][i]}\"\"\", \n",
    "                       answer=df.loc[i, \"OKRs\"]).with_inputs(\"question\") for i in range(len(df))]"
   ]
  },
  {
   "cell_type": "code",
   "execution_count": 40,
   "id": "780ab2f1",
   "metadata": {
    "ExecuteTime": {
     "end_time": "2024-07-29T22:58:55.152255Z",
     "start_time": "2024-07-29T22:58:52.454864Z"
    },
    "scrolled": true
   },
   "outputs": [],
   "source": [
    "import requests\n",
    "import json\n",
    "\n",
    "weaviate_client.batch.configure(batch_size=1000)  # Configure batch\n",
    "with weaviate_client.batch as batch:  # Initialize a batch process\n",
    "    for i, d in enumerate(lista):  # Batch import data\n",
    "        #print(f\"importing question: {i + 1}\")\n",
    "        properties = {\n",
    "                            'MERCADO':str(d['MERCADO']),\n",
    "                            'VISAO':str(d['VISAO']),\n",
    "                            'SWOT':str(d['SWOT']), \n",
    "                            'OBJETIVOFINANCEIRO':str(d['OBJETIVOFINANCEIRO']),\n",
    "                            'RESULTADOSCHAVEFINANCEIRO':str(d['RESULTADOSCHAVEFINANCEIRO']), \n",
    "                            'OBJETIVOCLIENTESEMERCADO':str(d['OBJETIVOCLIENTESEMERCADO']),\n",
    "                            'RESULTADOSCHAVECLIENTESEMERCADO':str(d['RESULTADOSCHAVECLIENTESEMERCADO']),\n",
    "                            'OBJETIVOPROCESSOS':str(d['OBJETIVOPROCESSOS']),\n",
    "                            'RESULTADOSCHAVEPROCESSOS':str(d['RESULTADOSCHAVEPROCESSOS']),\n",
    "                            'OBJETIVOPESSOAS':str(d['OBJETIVOPESSOAS']),\n",
    "                            'RESULTADOSCHAVEPESSOAS':str(d['RESULTADOSCHAVEPESSOAS']),\n",
    "                            'OKRs':str(d['OKRs'])\n",
    "                    }\n",
    "        \n",
    "        try:\n",
    "            \n",
    "            batch.add_data_object(\n",
    "                data_object=properties,\n",
    "                class_name=\"OKRs\"\n",
    "            )\n",
    "        except InvalidJSONError as e:\n",
    "            print(f'Erro {e}')"
   ]
  },
  {
   "cell_type": "code",
   "execution_count": 41,
   "id": "64ad16a1",
   "metadata": {
    "ExecuteTime": {
     "end_time": "2024-07-29T22:58:55.159635Z",
     "start_time": "2024-07-29T22:58:55.154259Z"
    }
   },
   "outputs": [
    {
     "data": {
      "text/plain": [
       "Index(['MERCADO', 'VISÃO', 'SWOT', 'OBJETIVOFINANCEIRO',\n",
       "       'RESULTADOSCHAVEFINANCEIRO', 'OBJETIVOCLIENTESEMERCADO',\n",
       "       'RESULTADOSCHAVECLIENTESEMERCADO', 'OBJETIVOPROCESSOS',\n",
       "       'RESULTADOSCHAVEPROCESSOS', 'OBJETIVOPESSOAS', 'RESULTADOSCHAVEPESSOAS',\n",
       "       'OKRs'],\n",
       "      dtype='object')"
      ]
     },
     "execution_count": 41,
     "metadata": {},
     "output_type": "execute_result"
    }
   ],
   "source": [
    "df_.columns"
   ]
  },
  {
   "cell_type": "markdown",
   "id": "60f42d3f",
   "metadata": {},
   "source": [
    "### DSPy"
   ]
  },
  {
   "cell_type": "code",
   "execution_count": 42,
   "id": "7ece169a",
   "metadata": {
    "ExecuteTime": {
     "end_time": "2024-07-29T22:59:25.512905Z",
     "start_time": "2024-07-29T22:59:25.508023Z"
    },
    "code_folding": []
   },
   "outputs": [],
   "source": [
    "_params4o = {\"lm\" : dspy.OpenAI(model='gpt-4o', max_tokens=1000, temperature=0.3, model_type='chat'), \n",
    "             \"rm\" : WeaviateRM(\"OKRs\", weaviate_client = weaviate_client, \n",
    "                             # PASSAMOS O COLLECTION TEXT KEY QUE SERA USADO PARA CLASSIFICAR O TEXTO => (CONTEXT)\n",
    "                             weaviate_collection_text_key=\"oKRs\"\n",
    "                            )\n",
    "           }\n",
    "\n",
    "_params35 = {\"lm\" : dspy.OpenAI(model='gpt-3.5-turbo-0125', max_tokens=1000, temperature=0.5, model_type='chat'), \n",
    "             \"rm\" : WeaviateRM(\"OKRs\", weaviate_client = weaviate_client, \n",
    "                             # PASSAMOS O COLLECTION TEXT KEY QUE SERA USADO PARA CLASSIFICAR O TEXTO => (CONTEXT)\n",
    "                             weaviate_collection_text_key=\"oKRs\"\n",
    "                            )\n",
    "           }\n",
    "\n",
    "# Passando kwargs\n",
    "# avaliar as configs usando dspy.settings.config...\n",
    "dspy.settings.configure(**_params4o)"
   ]
  },
  {
   "cell_type": "markdown",
   "id": "1009a8d8",
   "metadata": {},
   "source": [
    "### DSPy Oportune"
   ]
  },
  {
   "cell_type": "code",
   "execution_count": 43,
   "id": "05aa5ac5",
   "metadata": {
    "ExecuteTime": {
     "end_time": "2024-07-29T22:59:28.627914Z",
     "start_time": "2024-07-29T22:59:28.611799Z"
    },
    "code_folding": []
   },
   "outputs": [],
   "source": [
    "class GeradorOKRs(dspy.Signature):\n",
    "    \n",
    "    \"\"\"Você é um analista de projetos e processos de uma grande empresa de consultoria. \n",
    "       Sua tarefa é gerar OKRs para o cliente a partir da análise SWOT.\n",
    "    \"\"\"        \n",
    "  \n",
    "    # TEXTO DO PROBLEMA DE ENTRADA\n",
    "    question = dspy.InputField()\n",
    "    # AQUI TEMOS AS OPORTUNIDADES QUE VEM DA BASE FRIA (NO CASO ESTAMOS USANDO 5 PASSAGES)\n",
    "    context = dspy.InputField(desc=\"\"\"extraia informações da analise SWOT e dos objetivos e resultados-chave.\"\"\")    \n",
    "   \n",
    "    # RESPOSTA SEGUINDO OS FEWSHOTS dspy.Example()\n",
    "    answer = dspy.OutputField(desc=\"\"\"Dê sua resposta APENAS com as OKRs. Sugerir mais de 4 OKRs que façam sentido. Dê sua \n",
    "                                      resposta para cada perspectiva de okr: Financeira, Pessoas, Processos e Clientes.\n",
    "                                      Pense passo a passo. RESPONDA em Português do Brasil.\"\"\")\n",
    "\n",
    "class OKRsRAG(dspy.Module):\n",
    "    def __init__(self, num_passages = 5): \n",
    "        super().__init__()\n",
    "        self.retrieve = dspy.Retrieve(k=num_passages)\n",
    "        self.generate_answer = dspy.ChainOfThought(GeradorOKRs)\n",
    "\n",
    "    def forward(self, question):\n",
    "        context = self.retrieve(question).passages\n",
    "        prediction = self.generate_answer(context=context, question=question)        \n",
    "        return dspy.Prediction(answer=prediction.answer)"
   ]
  },
  {
   "cell_type": "code",
   "execution_count": null,
   "id": "8a339ae8",
   "metadata": {
    "ExecuteTime": {
     "end_time": "2024-06-21T19:41:08.005122Z",
     "start_time": "2024-06-21T19:41:07.997757Z"
    }
   },
   "outputs": [],
   "source": [
    "from dspy.teleprompt import LabeledFewShot\n",
    "\n",
    "labeled_fewshot_optimizer = LabeledFewShot(k=16)\n",
    "modeloCompiladoOKR = labeled_fewshot_optimizer.compile(student = OKRsRAG(), trainset = treino)"
   ]
  },
  {
   "cell_type": "code",
   "execution_count": null,
   "id": "b808cde2",
   "metadata": {
    "ExecuteTime": {
     "end_time": "2024-06-21T19:41:08.544734Z",
     "start_time": "2024-06-21T19:41:08.538953Z"
    }
   },
   "outputs": [],
   "source": [
    "modeloCompiladoOKR"
   ]
  },
  {
   "cell_type": "code",
   "execution_count": null,
   "id": "0b9d2366",
   "metadata": {
    "ExecuteTime": {
     "end_time": "2024-06-21T19:41:11.378349Z",
     "start_time": "2024-06-21T19:41:11.372615Z"
    }
   },
   "outputs": [],
   "source": [
    "modeloCompiladoOKR.save('modelo_oportune_21062024_okr.pkl')"
   ]
  },
  {
   "cell_type": "markdown",
   "id": "22cf9728",
   "metadata": {},
   "source": [
    "### ENTRADA COM ANÁLISE SWOT E SAÍDA EM OKRs"
   ]
  },
  {
   "cell_type": "code",
   "execution_count": null,
   "id": "35f2ac8e",
   "metadata": {
    "ExecuteTime": {
     "end_time": "2024-06-21T19:41:32.428615Z",
     "start_time": "2024-06-21T19:41:12.858977Z"
    }
   },
   "outputs": [],
   "source": [
    "SWOT = \"\"\"Forças:Variedade de Produtos: Amplia gama de pizzas, massas e acompanhamentos que atendem a diferentes gostos e preferências.\n",
    "Localização Estratégica: Estabelecimento situado em uma área movimentada com fácil acesso para clientes, aumentando a visibilidade e conveniência.\n",
    "Qualidade dos Ingredientes: Uso de ingredientes frescos e de alta qualidade, garantindo o sabor e a qualidade das pizzas.\n",
    "Marca Reconhecida: Boa reputação local e base de clientes fiel, construída ao longo dos anos.\n",
    "Fraquezas:Dependência de Mão-de-Obra: Setor de alimentação que depende muito de mão-de-obra, o que pode afetar a consistência e a eficiência do serviço.\n",
    "Flutuações no Custo de Ingredientes: Variações nos preços dos ingredientes podem impactar os custos de produção e a lucratividade.\n",
    "Concorrência Local: Presença de outras pizzarias na área competindo por clientes e mercado.\n",
    "Oportunidades:Expansão do Delivery: Aumento na demanda por serviços de entrega de alimentos, oferecendo oportunidades para expandir o serviço de entrega.\n",
    "Personalização e Inovação no Cardápio: Introdução de novos sabores de pizza, opções de massas especiais e promoções sazonais para atrair novos clientes.\n",
    "Parcerias com Empresas Locais: Colaboração com empresas locais para fornecer catering em eventos ou promoções conjuntas para atrair novos clientes.\n",
    "Ameaças:Concorrência de Cadeias de Fast-Food: Competição de grandes cadeias de fast-food que oferecem opções de refeições rápidas e baratas.\n",
    "Flutuações Econômicas: Instabilidade econômica que pode afetar o poder de compra dos clientes e suas decisões de gasto.\n",
    "Regulamentações de Saúde e Segurança: Requisitos e regulamentações governamentais que impactam as operações e custos de conformidade.\n",
    "\"\"\"\n",
    "#modelo = OportuneRAG()\n",
    "okrs = modeloCompiladoOKR(question = SWOT)"
   ]
  },
  {
   "cell_type": "markdown",
   "id": "26410e03",
   "metadata": {},
   "source": [
    "#### OKRs de saída"
   ]
  },
  {
   "cell_type": "code",
   "execution_count": null,
   "id": "ca6c59d7",
   "metadata": {
    "ExecuteTime": {
     "end_time": "2024-06-21T19:41:32.483533Z",
     "start_time": "2024-06-21T19:41:32.479056Z"
    }
   },
   "outputs": [],
   "source": [
    "print(okrs.answer)"
   ]
  },
  {
   "cell_type": "code",
   "execution_count": null,
   "id": "776cb679",
   "metadata": {
    "ExecuteTime": {
     "end_time": "2024-06-21T19:41:50.241956Z",
     "start_time": "2024-06-21T19:41:50.234186Z"
    }
   },
   "outputs": [],
   "source": [
    "_params4o['lm'].inspect_history(n=5)"
   ]
  },
  {
   "cell_type": "code",
   "execution_count": null,
   "id": "49061069",
   "metadata": {},
   "outputs": [],
   "source": []
  },
  {
   "cell_type": "code",
   "execution_count": null,
   "id": "95cfed8c",
   "metadata": {},
   "outputs": [],
   "source": []
  },
  {
   "cell_type": "markdown",
   "id": "7a19b9cc",
   "metadata": {},
   "source": [
    "### DSPy & Weaviate Cloud"
   ]
  },
  {
   "cell_type": "code",
   "execution_count": null,
   "id": "883ef30d",
   "metadata": {
    "ExecuteTime": {
     "end_time": "2024-06-22T17:59:09.776774Z",
     "start_time": "2024-06-22T17:59:09.773746Z"
    }
   },
   "outputs": [],
   "source": [
    "apikey = \"yBpK1JBlsGGiYuxEBQnLRrIJNSdQSRVWhhhO\""
   ]
  },
  {
   "cell_type": "code",
   "execution_count": 3,
   "id": "8966d8ed",
   "metadata": {
    "ExecuteTime": {
     "end_time": "2024-06-25T14:37:27.894964Z",
     "start_time": "2024-06-25T14:37:26.302231Z"
    }
   },
   "outputs": [
    {
     "name": "stderr",
     "output_type": "stream",
     "text": [
      "C:\\Users\\ThiagoBluhm\\.conda\\envs\\NLP_py311\\Lib\\site-packages\\weaviate\\__init__.py:128: DeprecationWarning: Dep010: Importing AuthApiKey from weaviate is deprecated. Please import it from its specific module: weaviate.auth\n",
      "  _Warnings.root_module_import(name, map_[name])\n",
      "C:\\Users\\ThiagoBluhm\\.conda\\envs\\NLP_py311\\Lib\\site-packages\\weaviate\\warnings.py:158: DeprecationWarning: Dep016: You are using the Weaviate v3 client, which is deprecated.\n",
      "            Consider upgrading to the new and improved v4 client instead!\n",
      "            See here for usage: https://weaviate.io/developers/weaviate/client-libraries/python\n",
      "            \n",
      "  warnings.warn(\n"
     ]
    }
   ],
   "source": [
    "import weaviate\n",
    "\n",
    "auth_config = weaviate.AuthApiKey(api_key=\"yBpK1JBlsGGiYuxEBQnLRrIJNSdQSRVWhhhO\")\n",
    "\n",
    "wvc_client = weaviate.Client(\n",
    "  url=\"https://db-vetores-okrs-qsklbzec.weaviate.network\", \n",
    "  additional_headers = {\"X-OpenAI-Api-Key\": secretk}, \n",
    "  auth_client_secret=auth_config\n",
    ")\n"
   ]
  },
  {
   "cell_type": "code",
   "execution_count": null,
   "id": "b0ae2ac8",
   "metadata": {
    "ExecuteTime": {
     "end_time": "2024-06-22T17:59:31.419152Z",
     "start_time": "2024-06-22T17:59:31.171967Z"
    }
   },
   "outputs": [],
   "source": [
    "schema_ = wvc_client.schema.get()\n",
    "\n",
    "# deletando a classe existente\n",
    "#wvc_client.schema.delete_all()\n",
    "#print(f\"Classe limpa: {wvc_client.schema.get()}, está ativa -> {wvc_client.is_ready()}\")"
   ]
  },
  {
   "cell_type": "code",
   "execution_count": null,
   "id": "0bde2c17",
   "metadata": {
    "ExecuteTime": {
     "end_time": "2024-06-21T20:06:04.676933Z",
     "start_time": "2024-06-21T20:06:03.982080Z"
    },
    "code_folding": [
     0,
     2,
     4,
     7
    ]
   },
   "outputs": [],
   "source": [
    "try:\n",
    "    wvc_client.schema.delete_class(\"OKRs\")\n",
    "except:\n",
    "    print(\"Erro ao deletar classe!\")\n",
    "finally:\n",
    "    print(\"Dados deletados da classe.\")\n",
    "    \n",
    "minha_classe = {\n",
    "    \n",
    "    \"class\" : \"OKRs\", \n",
    "    \"description\":\"Aqui seguem exemplos de análises SWOT que geram OKR's.\",\n",
    "    \"invertedIndexConfig\": {\n",
    "        \"cleanupIntervalSeconds\": 60\n",
    "      },\n",
    "    \n",
    "    \n",
    "    # 'SWOT', 'OBJETIVO1', 'RESULTADOS-CHAVE1', 'OBJETIVO2', 'RESULTADOS-CHAVE2'\n",
    "                \"properties\": [\n",
    "                        {\"name\": \"SWOT\",\n",
    "                         \"dataType\": [\"text\"],\n",
    "                         \"description\":\"Contém o texto base do documento com OPORTUNIDADES DE MELHORIA(SOLUÇÃO INVESTIMENTO GANHOS)\", \n",
    "                        },\n",
    "                    \n",
    "                        {\"name\": \"VISAO\",\n",
    "                         \"dataType\": [\"string\"],\n",
    "                         \"description\":\"Visao do mercado.\"\n",
    "                         },\n",
    "                    \n",
    "                        {\"name\": \"MERCADO\",\n",
    "                         \"dataType\": [\"string\"],\n",
    "                         \"description\":\"nicho mercadologico.\"\n",
    "                         },\n",
    "                    \n",
    "                         {\"name\": \"OBJETIVOFINANCEIRO\",\n",
    "                         \"dataType\": [\"string\"],\n",
    "                         \"description\":\"objetivos implementados de acordo com a análise SWOT com intuito financeiro.\"\n",
    "                         },\n",
    "                        {\"name\": \"RESULTADOSCHAVEFINANCEIRO\",\n",
    "                             \"dataType\": [\"text\"],\n",
    "                             \"description\":\"resultados chave para o objetivo financeiro.\"\n",
    "                             },                  \n",
    "              \n",
    "                         {\"name\": \"OBJETIVOCLIENTESEMERCADO\",\n",
    "                         \"dataType\": [\"string\"],\n",
    "                         \"description\":\"objetivos implementados de acordo com a análise SWOT com intuito de analisar os clientes e o mercado.\"\n",
    "                         },\n",
    "                        {\"name\": \"RESULTADOSCHAVECLIENTESEMERCADO\",\n",
    "                             \"dataType\": [\"text\"],\n",
    "                             \"description\":\"resultados chave para o objetivo de clientes e mercado.\"\n",
    "                             },\n",
    "                    \n",
    "                    \n",
    "                             {\"name\": \"OBJETIVOPROCESSOS\",\n",
    "                         \"dataType\": [\"string\"],\n",
    "                         \"description\":\"objetivos implementados de acordo com a análise SWOT com intuito de analisar os processos.\"\n",
    "                         },\n",
    "                        {\"name\": \"RESULTADOSCHAVEPROCESSOS\",\n",
    "                             \"dataType\": [\"text\"],\n",
    "                             \"description\":\"resultados chave para o objetivo de processos.\"\n",
    "                             },\n",
    "                    \n",
    "                    \n",
    "                     {\"name\": \"OBJETIVOPESSOAS\",\n",
    "                         \"dataType\": [\"string\"],\n",
    "                         \"description\":\"objetivos implementados de acordo com a análise SWOT com intuito de analisar pessoas.\"\n",
    "                         },\n",
    "                        {\"name\": \"RESULTADOSCHAVEPESSOAS\",\n",
    "                             \"dataType\": [\"text\"],\n",
    "                             \"description\":\"resultados chave para o objetivo pessoas.\"\n",
    "                             },\n",
    "                    \n",
    "                        {\"name\": \"OKRs\",\n",
    "                             \"dataType\": [\"text\"],\n",
    "                             \"description\":\"OKRs que são gerados a partir da VISAO, MERCADO, OBJETIVOS e RESULTADOS.\"\n",
    "                             } \n",
    "                  ],\n",
    "    \n",
    "    \"vectorizer\": \"text2vec-openai\",\n",
    "    \n",
    "    # gpt-3.5-turbo | gpt-3.5-turbo-16k | gpt-3.5-turbo-1106 | gpt-4 | gpt-4-32k | gpt-4-1106-preview\n",
    "    \n",
    "    \"moduleConfig\": {\n",
    "        \"generative-openai\": {\n",
    "          \"model\": \"gpt-3.5-turbo-16k\",\n",
    "          \"temperatureProperty\": 0.7,  \n",
    "          \"maxTokensProperty\":500,  \n",
    "          #\"frequencyPenaltyProperty\": <frequency_penalty>,  // Optional, applicable to both OpenAI and Azure OpenAI\n",
    "          #\"presencePenaltyProperty\": <presence_penalty>,  // Optional, applicable to both OpenAI and Azure OpenAI\n",
    "          \"topPProperty\": 3,\n",
    "        },\n",
    "        \n",
    "        \"text2vec-openai\": {\n",
    "          \"model\": \"text-embedding-3-large\",\n",
    "          \"dimensions\": 3072,\n",
    "          \"type\": \"text\"          \n",
    "        }\n",
    "        \n",
    "      },\n",
    "    \n",
    "    # Configure the vector index\n",
    "    \"vectorIndexType\": \"hnsw\",\n",
    "    \"vectorIndexConfig\": {\n",
    "        \"distance\": \"cosine\",\n",
    "        \"pq\": {\n",
    "            \"enabled\": True,\n",
    "            \"segments\": 192\n",
    "        },\n",
    "    },\n",
    "    # Configure the inverted index\n",
    "    \"indexTimestamps\": True,\n",
    "    \"indexNullState\": True,\n",
    "    \"indexPropertyLength\": True,\n",
    "\n",
    "}\n",
    "\n",
    "\n",
    "wvc_client.schema.create_class(minha_classe)\n",
    "print(\"Nova classe criada!\")   "
   ]
  },
  {
   "cell_type": "code",
   "execution_count": null,
   "id": "12fba0d3",
   "metadata": {
    "ExecuteTime": {
     "end_time": "2024-06-21T20:08:32.472924Z",
     "start_time": "2024-06-21T20:08:29.851820Z"
    },
    "code_folding": [
     4
    ]
   },
   "outputs": [],
   "source": [
    "import requests\n",
    "import json\n",
    "\n",
    "wvc_client.batch.configure(batch_size=1000)  # Configure batch\n",
    "with wvc_client.batch as batch:  # Initialize a batch process\n",
    "    for i, d in enumerate(lista):  # Batch import data\n",
    "        #print(f\"importing question: {i + 1}\")\n",
    "        properties = {\n",
    "                            'MERCADO':str(d['MERCADO']),\n",
    "                            'VISAO':str(d['VISAO']),\n",
    "                            'SWOT':str(d['SWOT']), \n",
    "                            'OBJETIVOFINANCEIRO':str(d['OBJETIVOFINANCEIRO']),\n",
    "                            'RESULTADOSCHAVEFINANCEIRO':str(d['RESULTADOSCHAVEFINANCEIRO']), \n",
    "                            'OBJETIVOCLIENTESEMERCADO':str(d['OBJETIVOCLIENTESEMERCADO']),\n",
    "                            'RESULTADOSCHAVECLIENTESEMERCADO':str(d['RESULTADOSCHAVECLIENTESEMERCADO']),\n",
    "                            'OBJETIVOPROCESSOS':str(d['OBJETIVOPROCESSOS']),\n",
    "                            'RESULTADOSCHAVEPROCESSOS':str(d['RESULTADOSCHAVEPROCESSOS']),\n",
    "                            'OBJETIVOPESSOAS':str(d['OBJETIVOPESSOAS']),\n",
    "                            'RESULTADOSCHAVEPESSOAS':str(d['RESULTADOSCHAVEPESSOAS']),\n",
    "                            'OKRs':str(d['OKRs'])\n",
    "                    }\n",
    "        \n",
    "        try:\n",
    "            \n",
    "            batch.add_data_object(\n",
    "                data_object=properties,\n",
    "                class_name=\"OKRs\"\n",
    "            )\n",
    "        except InvalidJSONError as e:\n",
    "            print(f'Erro {e}')"
   ]
  },
  {
   "cell_type": "code",
   "execution_count": 4,
   "id": "e8a05998",
   "metadata": {
    "ExecuteTime": {
     "end_time": "2024-06-25T14:37:39.967949Z",
     "start_time": "2024-06-25T14:37:39.963964Z"
    }
   },
   "outputs": [],
   "source": [
    "_params4o = {\"lm\" : dspy.OpenAI(model='gpt-4o', max_tokens=1000, temperature=0.3, model_type='chat'), \n",
    "             \"rm\" : WeaviateRM(\"OKRs\", weaviate_client = wvc_client, \n",
    "                             # PASSAMOS O COLLECTION TEXT KEY QUE SERA USADO PARA CLASSIFICAR O TEXTO => (CONTEXT)\n",
    "                             weaviate_collection_text_key=\"oKRs\"\n",
    "                            )\n",
    "           }\n",
    "\n",
    "# Passando kwargs\n",
    "# avaliar as configs usando dspy.settings.config...\n",
    "dspy.settings.configure(**_params4o)"
   ]
  },
  {
   "cell_type": "code",
   "execution_count": null,
   "id": "f5946267",
   "metadata": {},
   "outputs": [],
   "source": []
  },
  {
   "cell_type": "markdown",
   "id": "1660e7c8",
   "metadata": {},
   "source": [
    "### DSPy Oportune"
   ]
  },
  {
   "cell_type": "code",
   "execution_count": 57,
   "id": "1c03100a",
   "metadata": {
    "ExecuteTime": {
     "end_time": "2024-07-29T23:04:40.067361Z",
     "start_time": "2024-07-29T23:04:40.059770Z"
    },
    "code_folding": []
   },
   "outputs": [],
   "source": [
    "class GeradorOKRs(dspy.Signature):\n",
    "    \n",
    "    \"\"\"Você é um analista de projetos e processos de uma grande empresa de consultoria. \n",
    "       Sua tarefa é gerar OKRs para o cliente a partir da análise SWOT.\n",
    "    \"\"\"        \n",
    "  \n",
    "    # TEXTO DO PROBLEMA DE ENTRADA\n",
    "    question = dspy.InputField()\n",
    "    # AQUI TEMOS AS OPORTUNIDADES QUE VEM DA BASE FRIA (NO CASO ESTAMOS USANDO 5 PASSAGES)\n",
    "    context = dspy.InputField(desc=\"\"\"extraia informações da analise SWOT e dos objetivos e resultados-chave.\"\"\")    \n",
    "   \n",
    "    # RESPOSTA SEGUINDO OS FEWSHOTS dspy.Example()\n",
    "    answer = dspy.OutputField(desc=\"\"\"Dê sua resposta APENAS com as OKRs. IMPORTANTE SUGERIR 4 ou mais OKRs PARA CADA UMA das \n",
    "                                      perspectivas de okr que são: Financeira, Pessoas, Processos e Clientes.\n",
    "                                      Pense passo a passo. RESPONDA em Português do Brasil.\"\"\")\n",
    "\n",
    "class OKRsRAG(dspy.Module):\n",
    "    def __init__(self, num_passages = 5): \n",
    "        super().__init__()\n",
    "        self.retrieve = dspy.Retrieve(k=num_passages)\n",
    "        self.generate_answer = dspy.ChainOfThought(GeradorOKRs)\n",
    "\n",
    "    def forward(self, question):\n",
    "        context = self.retrieve(question).passages\n",
    "        prediction = self.generate_answer(context=context, question=question)        \n",
    "        return dspy.Prediction(answer=prediction.answer)"
   ]
  },
  {
   "cell_type": "code",
   "execution_count": 60,
   "id": "b9f35e5e",
   "metadata": {
    "ExecuteTime": {
     "end_time": "2024-07-29T23:04:59.326686Z",
     "start_time": "2024-07-29T23:04:59.321355Z"
    }
   },
   "outputs": [],
   "source": [
    "from dspy.teleprompt import LabeledFewShot\n",
    "\n",
    "labeled_fewshot_optimizer = LabeledFewShot(k=16)\n",
    "modeloCompiladoOKR = labeled_fewshot_optimizer.compile(student = OKRsRAG(), trainset = treino)"
   ]
  },
  {
   "cell_type": "code",
   "execution_count": 62,
   "id": "3d906dae",
   "metadata": {
    "ExecuteTime": {
     "end_time": "2024-07-29T23:05:20.836022Z",
     "start_time": "2024-07-29T23:05:20.831056Z"
    }
   },
   "outputs": [],
   "source": [
    "modeloCompiladoOKR.save('modelo_oportune_29072024_okrs.pkl')"
   ]
  },
  {
   "cell_type": "markdown",
   "id": "f9c9b7a4",
   "metadata": {},
   "source": [
    "### ENTRADA COM ANÁLISE SWOT E SAÍDA EM OKRs"
   ]
  },
  {
   "cell_type": "code",
   "execution_count": null,
   "id": "ba7372cb",
   "metadata": {},
   "outputs": [],
   "source": []
  },
  {
   "cell_type": "code",
   "execution_count": 63,
   "id": "5c9fe547",
   "metadata": {
    "ExecuteTime": {
     "end_time": "2024-07-29T23:05:21.830020Z",
     "start_time": "2024-07-29T23:05:21.824747Z"
    }
   },
   "outputs": [],
   "source": [
    "SWOT = \"\"\"Forças:Variedade de Produtos: Amplia gama de pizzas, massas e acompanhamentos que atendem a diferentes gostos e preferências.\n",
    "Localização Estratégica: Estabelecimento situado em uma área movimentada com fácil acesso para clientes, aumentando a visibilidade e conveniência.\n",
    "Qualidade dos Ingredientes: Uso de ingredientes frescos e de alta qualidade, garantindo o sabor e a qualidade das pizzas.\n",
    "Marca Reconhecida: Boa reputação local e base de clientes fiel, construída ao longo dos anos.\n",
    "Fraquezas:Dependência de Mão-de-Obra: Setor de alimentação que depende muito de mão-de-obra, o que pode afetar a consistência e a eficiência do serviço.\n",
    "Flutuações no Custo de Ingredientes: Variações nos preços dos ingredientes podem impactar os custos de produção e a lucratividade.\n",
    "Concorrência Local: Presença de outras pizzarias na área competindo por clientes e mercado.\n",
    "Oportunidades:Expansão do Delivery: Aumento na demanda por serviços de entrega de alimentos, oferecendo oportunidades para expandir o serviço de entrega.\n",
    "Personalização e Inovação no Cardápio: Introdução de novos sabores de pizza, opções de massas especiais e promoções sazonais para atrair novos clientes.\n",
    "Parcerias com Empresas Locais: Colaboração com empresas locais para fornecer catering em eventos ou promoções conjuntas para atrair novos clientes.\n",
    "Ameaças:Concorrência de Cadeias de Fast-Food: Competição de grandes cadeias de fast-food que oferecem opções de refeições rápidas e baratas.\n",
    "Flutuações Econômicas: Instabilidade econômica que pode afetar o poder de compra dos clientes e suas decisões de gasto.\n",
    "Regulamentações de Saúde e Segurança: Requisitos e regulamentações governamentais que impactam as operações e custos de conformidade.\n",
    "\"\"\"\n",
    "#modelo = OportuneRAG()\n",
    "#okrs = modeloCompiladoOKR(question = SWOT)"
   ]
  },
  {
   "cell_type": "code",
   "execution_count": 64,
   "id": "73a7fe5f",
   "metadata": {
    "ExecuteTime": {
     "end_time": "2024-07-29T23:05:27.756860Z",
     "start_time": "2024-07-29T23:05:27.738159Z"
    }
   },
   "outputs": [],
   "source": [
    "modelo = OKRsRAG()\n",
    "modelo.load('modelo_oportune_29072024_okrs.pkl') #(f'modelo_oportune_23062024_okr_cloud.pkl')"
   ]
  },
  {
   "cell_type": "code",
   "execution_count": 65,
   "id": "f48fe063",
   "metadata": {
    "ExecuteTime": {
     "end_time": "2024-07-29T23:05:45.368917Z",
     "start_time": "2024-07-29T23:05:29.110647Z"
    }
   },
   "outputs": [],
   "source": [
    "okrs = modelo(question=SWOT)"
   ]
  },
  {
   "cell_type": "markdown",
   "id": "11f4bbc6",
   "metadata": {},
   "source": [
    "#### OKRs de saída"
   ]
  },
  {
   "cell_type": "code",
   "execution_count": 67,
   "id": "74d7c311",
   "metadata": {
    "ExecuteTime": {
     "end_time": "2024-07-29T23:05:53.642578Z",
     "start_time": "2024-07-29T23:05:53.634828Z"
    }
   },
   "outputs": [
    {
     "name": "stdout",
     "output_type": "stream",
     "text": [
      "**Financeira:**\n",
      "1. **O1: Aumentar a rentabilidade do negócio.**\n",
      "   - O1KR1: Aumentar o faturamento em 20% até o final de 2023.\n",
      "   - O1KR2: Reduzir os custos operacionais em 15% até o final de 2023.\n",
      "   - O1KR3: Aumentar a margem de lucro líquido de 10% para 15% até o final de 2023.\n",
      "   - O1KR4: Implementar um sistema de gestão de custos para monitorar flutuações no preço dos ingredientes até junho de 2023.\n",
      "\n",
      "**Clientes:**\n",
      "2. **O2: Melhorar a experiência do cliente e aumentar a fidelização.**\n",
      "   - O2KR1: Aumentar a taxa de satisfação do cliente (NPS) de 70 para 85 até dezembro de 2023.\n",
      "   - O2KR2: Expandir o serviço de delivery para cobrir 100% da área urbana até setembro de 2023.\n",
      "   - O2KR3: Introduzir 5 novos sabores de pizza e 3 novas opções de massas até julho de 2023.\n",
      "   - O2KR4: Implementar um programa de fidelidade para clientes até março de 2023.\n",
      "\n",
      "**Processos:**\n",
      "3. **O3: Otimizar os processos internos para aumentar a eficiência.**\n",
      "   - O3KR1: Reduzir o tempo de preparação e entrega dos pedidos de 30 minutos para 20 minutos até dezembro de 2023.\n",
      "   - O3KR2: Implementar um sistema de ERP integrado até junho de 2023.\n",
      "   - O3KR3: Aumentar a eficiência operacional da cozinha em 25% até o final de 2023.\n",
      "   - O3KR4: Implementar um programa de treinamento contínuo para a equipe até março de 2023.\n",
      "\n",
      "**Pessoas:**\n",
      "4. **O4: Fortalecer a cultura organizacional e melhorar a gestão de pessoas.**\n",
      "   - O4KR1: Reduzir a rotatividade de funcionários de 20% para 10% até dezembro de 2023.\n",
      "   - O4KR2: Aumentar a satisfação dos colaboradores de 75% para 90% até o final de 2023.\n",
      "   - O4KR3: Implementar um plano de\n"
     ]
    }
   ],
   "source": [
    "print(okrs.answer)"
   ]
  },
  {
   "cell_type": "code",
   "execution_count": null,
   "id": "0c128709",
   "metadata": {
    "ExecuteTime": {
     "end_time": "2024-06-21T20:11:59.499624Z",
     "start_time": "2024-06-21T20:11:59.494792Z"
    }
   },
   "outputs": [],
   "source": [
    "_params4o['lm'].inspect_history(n=5)"
   ]
  },
  {
   "cell_type": "code",
   "execution_count": null,
   "id": "e969c172",
   "metadata": {},
   "outputs": [],
   "source": []
  },
  {
   "cell_type": "code",
   "execution_count": null,
   "id": "2a0f0e36",
   "metadata": {},
   "outputs": [],
   "source": []
  },
  {
   "cell_type": "code",
   "execution_count": null,
   "id": "8d6bbf22",
   "metadata": {},
   "outputs": [],
   "source": []
  },
  {
   "cell_type": "code",
   "execution_count": null,
   "id": "aff556a9",
   "metadata": {},
   "outputs": [],
   "source": []
  },
  {
   "cell_type": "code",
   "execution_count": null,
   "id": "99df66de",
   "metadata": {},
   "outputs": [],
   "source": []
  },
  {
   "cell_type": "code",
   "execution_count": null,
   "id": "62a0367e",
   "metadata": {},
   "outputs": [],
   "source": []
  },
  {
   "cell_type": "code",
   "execution_count": null,
   "id": "cc45ac3d",
   "metadata": {},
   "outputs": [],
   "source": []
  }
 ],
 "metadata": {
  "kernelspec": {
   "display_name": "NLP_env",
   "language": "python",
   "name": "nlp_env"
  },
  "language_info": {
   "codemirror_mode": {
    "name": "ipython",
    "version": 3
   },
   "file_extension": ".py",
   "mimetype": "text/x-python",
   "name": "python",
   "nbconvert_exporter": "python",
   "pygments_lexer": "ipython3",
   "version": "3.12.7"
  },
  "nbTranslate": {
   "displayLangs": [
    "*"
   ],
   "hotkey": "alt-t",
   "langInMainMenu": true,
   "sourceLang": "en",
   "targetLang": "fr",
   "useGoogleTranslate": true
  },
  "toc": {
   "base_numbering": 1,
   "nav_menu": {},
   "number_sections": true,
   "sideBar": false,
   "skip_h1_title": false,
   "title_cell": "Table of Contents",
   "title_sidebar": "Contents",
   "toc_cell": false,
   "toc_position": {},
   "toc_section_display": true,
   "toc_window_display": false
  }
 },
 "nbformat": 4,
 "nbformat_minor": 5
}
